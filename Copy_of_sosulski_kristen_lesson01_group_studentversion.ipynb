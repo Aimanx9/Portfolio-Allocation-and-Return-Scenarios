{
  "nbformat": 4,
  "nbformat_minor": 0,
  "metadata": {
    "colab": {
      "provenance": [],
      "collapsed_sections": [],
      "include_colab_link": true
    },
    "kernelspec": {
      "name": "python3",
      "display_name": "Python 3"
    }
  },
  "cells": [
    {
      "cell_type": "markdown",
      "metadata": {
        "id": "view-in-github",
        "colab_type": "text"
      },
      "source": [
        "<a href=\"https://colab.research.google.com/github/Aimanx9/Portfolio-Allocation-and-Return-Scenarios/blob/main/Copy_of_sosulski_kristen_lesson01_group_studentversion.ipynb\" target=\"_parent\"><img src=\"https://colab.research.google.com/assets/colab-badge.svg\" alt=\"Open In Colab\"/></a>"
      ]
    },
    {
      "cell_type": "markdown",
      "metadata": {
        "id": "_l19yCOlMgHV"
      },
      "source": [
        "## 1. Examine the following code. What is the result?"
      ]
    },
    {
      "cell_type": "code",
      "metadata": {
        "id": "7_mRxZBBMmvX",
        "outputId": "34a02c06-c436-4d1b-b300-4c71e07a63a8",
        "colab": {
          "base_uri": "https://localhost:8080/",
          "height": 130
        }
      },
      "source": [
        "#Hi Everyone. Here is my super cool program\n",
        "DO you like it? "
      ],
      "execution_count": null,
      "outputs": [
        {
          "output_type": "error",
          "ename": "SyntaxError",
          "evalue": "ignored",
          "traceback": [
            "\u001b[0;36m  File \u001b[0;32m\"<ipython-input-1-295287bfeee2>\"\u001b[0;36m, line \u001b[0;32m2\u001b[0m\n\u001b[0;31m    DO you like it?\u001b[0m\n\u001b[0m         ^\u001b[0m\n\u001b[0;31mSyntaxError\u001b[0m\u001b[0;31m:\u001b[0m invalid syntax\n"
          ]
        }
      ]
    },
    {
      "cell_type": "markdown",
      "source": [
        "syntax error: invalid syntax"
      ],
      "metadata": {
        "id": "ULsOmgUaGr3G"
      }
    },
    {
      "cell_type": "markdown",
      "metadata": {
        "id": "pMTvVw_2M1lw"
      },
      "source": [
        "## 2. What is the syntax to create italic font in markdown?\n",
        "\n"
      ]
    },
    {
      "cell_type": "markdown",
      "metadata": {
        "id": "L-cO-zAal5jQ"
      },
      "source": [
        "*Add your response here.*   using * before and after (asterik)"
      ]
    },
    {
      "cell_type": "markdown",
      "metadata": {
        "id": "nqCFl6viMRP4"
      },
      "source": [
        "## 3. What's causing the following error? Explain. "
      ]
    },
    {
      "cell_type": "code",
      "metadata": {
        "id": "t4HLClx2MHvP",
        "outputId": "c357a619-a95a-47eb-83ab-320309a09cb0",
        "colab": {
          "base_uri": "https://localhost:8080/"
        }
      },
      "source": [
        "2+2 == 4 + 4"
      ],
      "execution_count": null,
      "outputs": [
        {
          "output_type": "execute_result",
          "data": {
            "text/plain": [
              "False"
            ]
          },
          "metadata": {},
          "execution_count": 29
        }
      ]
    },
    {
      "cell_type": "markdown",
      "metadata": {
        "id": "YYUIeNu1mbPH"
      },
      "source": [
        "##4. Print the result of expression (2+9) to the screen in a sentence that reads: `Hey, just in case you didn't know 2+9 is 11.  `"
      ]
    },
    {
      "cell_type": "code",
      "metadata": {
        "id": "3ffY--Jtu1V_",
        "outputId": "d03efed8-9ae7-4284-a7af-21ad346a8978",
        "colab": {
          "base_uri": "https://localhost:8080/"
        }
      },
      "source": [
        "print(\"Hey, just in case you didn't know 2+9 is:\",2+9)"
      ],
      "execution_count": null,
      "outputs": [
        {
          "output_type": "stream",
          "name": "stdout",
          "text": [
            "Hey, just in case you didn't know 2+9 is: 11\n"
          ]
        }
      ]
    },
    {
      "cell_type": "markdown",
      "metadata": {
        "id": "BEqO6GkIu25d"
      },
      "source": [
        "##5. How would you cause a name error? Write some code"
      ]
    },
    {
      "cell_type": "code",
      "metadata": {
        "id": "m3jhbB9kul3p",
        "outputId": "ef51a90f-b793-4246-b65a-c6e8e1a555a4",
        "colab": {
          "base_uri": "https://localhost:8080/",
          "height": 165
        }
      },
      "source": [
        "prt(\"Good Morning!\")"
      ],
      "execution_count": null,
      "outputs": [
        {
          "output_type": "error",
          "ename": "NameError",
          "evalue": "ignored",
          "traceback": [
            "\u001b[0;31m---------------------------------------------------------------------------\u001b[0m",
            "\u001b[0;31mNameError\u001b[0m                                 Traceback (most recent call last)",
            "\u001b[0;32m<ipython-input-5-1cf53524ced7>\u001b[0m in \u001b[0;36m<module>\u001b[0;34m\u001b[0m\n\u001b[0;32m----> 1\u001b[0;31m \u001b[0mprt\u001b[0m\u001b[0;34m(\u001b[0m\u001b[0;34m\"Good Morning!\"\u001b[0m\u001b[0;34m)\u001b[0m\u001b[0;34m\u001b[0m\u001b[0;34m\u001b[0m\u001b[0m\n\u001b[0m",
            "\u001b[0;31mNameError\u001b[0m: name 'prt' is not defined"
          ]
        }
      ]
    },
    {
      "cell_type": "markdown",
      "metadata": {
        "id": "BeO24KapxHWA"
      },
      "source": [
        "##6. Take the minimum of the follow values: 88, 99, 21, 31, 12,110"
      ]
    },
    {
      "cell_type": "code",
      "metadata": {
        "id": "6TmEgxG0ur0e"
      },
      "source": [
        "min(88,99,21,31,12,110)"
      ],
      "execution_count": null,
      "outputs": []
    },
    {
      "cell_type": "markdown",
      "metadata": {
        "id": "866g20QDxWNU"
      },
      "source": [
        "##7. Print out a sentence that prints the minimum value from question 6 that reads: `Using a function we're taking the minimum value of 88, 99, 21, 31, 12,110, which is 12.`"
      ]
    },
    {
      "cell_type": "code",
      "metadata": {
        "id": "qmJMCai9x2nr",
        "outputId": "9aca345e-01ee-47e5-eb0d-95a62ea4a1f1",
        "colab": {
          "base_uri": "https://localhost:8080/"
        }
      },
      "source": [
        "print(\"Using a function we're taking the minimum value of 88,99,21,31,12,110, which is:\", min(88,99,21,31,12,110) )"
      ],
      "execution_count": null,
      "outputs": [
        {
          "output_type": "stream",
          "name": "stdout",
          "text": [
            "Using a function we're taking the minimum value of 88,99,21,31,12,110, which is: 12\n"
          ]
        }
      ]
    },
    {
      "cell_type": "markdown",
      "metadata": {
        "id": "tLcmWIPt4dmN"
      },
      "source": [
        "##8. What is the result of the following expression? \n",
        "\n",
        "`max(3,4,51`\n",
        "\n",
        "`)`"
      ]
    },
    {
      "cell_type": "code",
      "metadata": {
        "id": "dBY7DLMgu-cJ",
        "outputId": "6ebf4c70-a655-484b-b4c0-f408bdaa1311",
        "colab": {
          "base_uri": "https://localhost:8080/"
        }
      },
      "source": [
        "max(3,4,51\n",
        ")"
      ],
      "execution_count": null,
      "outputs": [
        {
          "output_type": "execute_result",
          "data": {
            "text/plain": [
              "51"
            ]
          },
          "metadata": {},
          "execution_count": 15
        }
      ]
    }
  ]
}